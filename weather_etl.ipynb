{
 "cells": [
  {
   "cell_type": "code",
   "execution_count": null,
   "id": "f1dae1e7",
   "metadata": {},
   "outputs": [
    {
     "data": {
      "text/plain": [
       "{'coord': {'lon': 36.8167, 'lat': -1.2833},\n",
       " 'weather': [{'id': 804,\n",
       "   'main': 'Clouds',\n",
       "   'description': 'overcast clouds',\n",
       "   'icon': '04d'}],\n",
       " 'base': 'stations',\n",
       " 'main': {'temp': 292.69,\n",
       "  'feels_like': 292.37,\n",
       "  'temp_min': 292.69,\n",
       "  'temp_max': 292.69,\n",
       "  'pressure': 1015,\n",
       "  'humidity': 64,\n",
       "  'sea_level': 1015,\n",
       "  'grnd_level': 838},\n",
       " 'visibility': 10000,\n",
       " 'wind': {'speed': 2.75, 'deg': 127, 'gust': 3.17},\n",
       " 'clouds': {'all': 97},\n",
       " 'dt': 1752674390,\n",
       " 'sys': {'country': 'KE', 'sunrise': 1752637021, 'sunset': 1752680408},\n",
       " 'timezone': 10800,\n",
       " 'id': 184745,\n",
       " 'name': 'Nairobi',\n",
       " 'cod': 200}"
      ]
     },
     "execution_count": 1,
     "metadata": {},
     "output_type": "execute_result"
    }
   ],
   "source": [
    "import requests\n",
    "import os\n",
    "from dotenv import load_dotenv\n",
    "import pandas as pd\n",
    "from sqlalchemy import create_engine\n",
    "import psycopg2\n",
    "\n",
    "load_dotenv()\n",
    "api_key = os.getenv('api_key')\n",
    "\n",
    "#data extraction\n",
    "url = f\"https://api.openweathermap.org/data/2.5/weather?q=Nairobi&appid={api_key}\"\n",
    "\n",
    "response = requests.get(url)\n",
    "data= response.json()\n",
    "\n",
    "data\n",
    "\n",
    "#city name, description,humididty,temp\n",
    "\n",
    "\n"
   ]
  },
  {
   "cell_type": "code",
   "execution_count": 2,
   "id": "be255d7e",
   "metadata": {},
   "outputs": [
    {
     "data": {
      "text/plain": [
       "200"
      ]
     },
     "execution_count": 2,
     "metadata": {},
     "output_type": "execute_result"
    }
   ],
   "source": [
    "response.status_code"
   ]
  },
  {
   "cell_type": "code",
   "execution_count": null,
   "id": "baf40323",
   "metadata": {},
   "outputs": [
    {
     "data": {
      "text/html": [
       "<div>\n",
       "<style scoped>\n",
       "    .dataframe tbody tr th:only-of-type {\n",
       "        vertical-align: middle;\n",
       "    }\n",
       "\n",
       "    .dataframe tbody tr th {\n",
       "        vertical-align: top;\n",
       "    }\n",
       "\n",
       "    .dataframe thead th {\n",
       "        text-align: right;\n",
       "    }\n",
       "</style>\n",
       "<table border=\"1\" class=\"dataframe\">\n",
       "  <thead>\n",
       "    <tr style=\"text-align: right;\">\n",
       "      <th></th>\n",
       "      <th>City</th>\n",
       "      <th>Temperature(K)</th>\n",
       "      <th>Humidity(%)</th>\n",
       "      <th>Description</th>\n",
       "    </tr>\n",
       "  </thead>\n",
       "  <tbody>\n",
       "    <tr>\n",
       "      <th>0</th>\n",
       "      <td>Nairobi</td>\n",
       "      <td>292.69</td>\n",
       "      <td>64</td>\n",
       "      <td>overcast clouds</td>\n",
       "    </tr>\n",
       "  </tbody>\n",
       "</table>\n",
       "</div>"
      ],
      "text/plain": [
       "      City  Temperature(K)  Humidity(%)      Description\n",
       "0  Nairobi          292.69           64  overcast clouds"
      ]
     },
     "execution_count": 3,
     "metadata": {},
     "output_type": "execute_result"
    }
   ],
   "source": [
    "#data tramsformation\n",
    "if response.status_code == 200:\n",
    "    city= data.get('name')\n",
    "    temperature= data['main']['temp']\n",
    "    humidity= data['main']['humidity']\n",
    "    description= data['weather'][0]['description']\n",
    "\n",
    "    weather_data = {\n",
    "        'City':[city],\n",
    "        'Temperature(K)' : [temperature],\n",
    "        'Humidity(%)' : [humidity],\n",
    "        'Description' : [description],\n",
    "    }\n",
    "\n",
    "\n",
    "\n",
    "else:\n",
    "    print(f\"Error! : {response.status_code}\")\n",
    "\n",
    "df= pd.DataFrame(weather_data)\n",
    "\n",
    "df"
   ]
  },
  {
   "cell_type": "code",
   "execution_count": null,
   "id": "080b889d",
   "metadata": {},
   "outputs": [
    {
     "data": {
      "text/plain": [
       "1"
      ]
     },
     "execution_count": 4,
     "metadata": {},
     "output_type": "execute_result"
    }
   ],
   "source": [
    "#loading the data to postgresql \n",
    "password = os.getenv(\"password\")\n",
    "user = os.getenv(\"user\")\n",
    "port = os.getenv(\"port\")\n",
    "host = os.getenv(\"host\")\n",
    "name = os.getenv(\"database_name\")\n",
    "\n",
    "\n",
    "#creating the sql alchemy engine\n",
    "engine = create_engine(f\"postgresql://{user}:{password}@{host}:{port}/{name}\")\n",
    "\n",
    "\n",
    "df.to_sql(\"nairobi_weather\", engine, if_exists=\"replace\", index=False)\n",
    "\n"
   ]
  }
 ],
 "metadata": {
  "kernelspec": {
   "display_name": "Python 3",
   "language": "python",
   "name": "python3"
  },
  "language_info": {
   "codemirror_mode": {
    "name": "ipython",
    "version": 3
   },
   "file_extension": ".py",
   "mimetype": "text/x-python",
   "name": "python",
   "nbconvert_exporter": "python",
   "pygments_lexer": "ipython3",
   "version": "3.11.9"
  }
 },
 "nbformat": 4,
 "nbformat_minor": 5
}
